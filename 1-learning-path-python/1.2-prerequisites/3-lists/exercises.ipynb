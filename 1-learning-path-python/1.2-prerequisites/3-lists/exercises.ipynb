{
 "cells": [
  {
   "cell_type": "markdown",
   "id": "eb17c9de",
   "metadata": {},
   "source": [
    "## Exercise 1\n",
    "\n",
    "- Create a list L containing 4,5,6\n",
    "- Change the second value of the list to 10\n",
    "- add value 11 to L\n",
    "- stack L with an additional sequence of values 6, 8"
   ]
  },
  {
   "cell_type": "code",
   "execution_count": 4,
   "id": "f3ffd0a9",
   "metadata": {},
   "outputs": [
    {
     "name": "stdout",
     "output_type": "stream",
     "text": [
      "[4, 5, 6]\n",
      "[4, 10, 6]\n",
      "[4, 10, 6, 11]\n",
      "[4, 10, 6, 11, 6, 8]\n"
     ]
    }
   ],
   "source": [
    "lst = [4,5,6]\n",
    "print(lst)\n",
    "\n",
    "lst[1]=10\n",
    "print(lst)\n",
    "\n",
    "lst.append(11)\n",
    "print(lst)\n",
    "\n",
    "lst = lst + [6,8]\n",
    "print(lst)"
   ]
  },
  {
   "cell_type": "markdown",
   "id": "863d700d",
   "metadata": {},
   "source": [
    "## Exercise 2\n",
    "\n",
    "- create a list of list LL, contaning\n",
    "    - a first list with values 10, 20 and 30\n",
    "    - a second list with values 40, 50 and 60\n",
    "    - a third list with values 70, 80 and 90\n",
    "- verify that LL is two-dimensional"
   ]
  },
  {
   "cell_type": "code",
   "execution_count": 6,
   "id": "a0e8970c",
   "metadata": {},
   "outputs": [],
   "source": [
    "lst_lst = [[10,20,30],[40,50,60],[70,80,90]]"
   ]
  },
  {
   "cell_type": "code",
   "execution_count": 9,
   "id": "6d2083b3",
   "metadata": {},
   "outputs": [],
   "source": [
    "def is_two_dimensional(L):\n",
    "    if not isinstance(L,list):\n",
    "        return False\n",
    "    if not L:\n",
    "        return False\n",
    "    if not all(isinstance(sublist,list) and len(sublist) == len(L[0]) for sublist in L):\n",
    "        return False\n",
    "    return True"
   ]
  },
  {
   "cell_type": "code",
   "execution_count": 10,
   "id": "e9e24810",
   "metadata": {},
   "outputs": [
    {
     "data": {
      "text/plain": [
       "True"
      ]
     },
     "execution_count": 10,
     "metadata": {},
     "output_type": "execute_result"
    }
   ],
   "source": [
    "is_two_dimensional(lst_lst)"
   ]
  }
 ],
 "metadata": {
  "kernelspec": {
   "display_name": "Python 3 (ipykernel)",
   "language": "python",
   "name": "python3"
  },
  "language_info": {
   "codemirror_mode": {
    "name": "ipython",
    "version": 3
   },
   "file_extension": ".py",
   "mimetype": "text/x-python",
   "name": "python",
   "nbconvert_exporter": "python",
   "pygments_lexer": "ipython3",
   "version": "3.11.5"
  }
 },
 "nbformat": 4,
 "nbformat_minor": 5
}
