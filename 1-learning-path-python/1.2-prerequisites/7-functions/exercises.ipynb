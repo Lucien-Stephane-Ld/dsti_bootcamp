{
 "cells": [
  {
   "cell_type": "markdown",
   "id": "eaa0f372",
   "metadata": {},
   "source": [
    "### Exercise 1\n",
    "\n",
    "- Define a function `add1()` that takes any numeric x as an argument and returns x + 1"
   ]
  },
  {
   "cell_type": "code",
   "execution_count": 1,
   "id": "64979138",
   "metadata": {},
   "outputs": [],
   "source": [
    "def add1(x :int):\n",
    "    return x+1"
   ]
  },
  {
   "cell_type": "code",
   "execution_count": 2,
   "id": "38404750",
   "metadata": {},
   "outputs": [
    {
     "data": {
      "text/plain": [
       "6"
      ]
     },
     "execution_count": 2,
     "metadata": {},
     "output_type": "execute_result"
    }
   ],
   "source": [
    "add1(5)"
   ]
  },
  {
   "cell_type": "markdown",
   "id": "c95c7750",
   "metadata": {},
   "source": [
    "### Exercise 2\n",
    "\n",
    "- Define a function `add_one_list()` \n",
    "- this function takes any list x as an argument\n",
    "- this function iterates over the list\n",
    "- adds 1 to each value in the list\n",
    "- stores the results in a new list"
   ]
  },
  {
   "cell_type": "code",
   "execution_count": 72,
   "id": "e495d268",
   "metadata": {},
   "outputs": [],
   "source": [
    "def add_one_list(list):\n",
    "    result=[]\n",
    "    for i in list:\n",
    "        result.append(i+1)\n",
    "    return result"
   ]
  },
  {
   "cell_type": "code",
   "execution_count": 78,
   "id": "dba5123b",
   "metadata": {},
   "outputs": [],
   "source": [
    "def add_one_list2(list):\n",
    "    for i in range(len(list)):\n",
    "        list[i]=add1(list[i])\n",
    "    return list"
   ]
  },
  {
   "cell_type": "code",
   "execution_count": 80,
   "id": "b2d80d7f",
   "metadata": {},
   "outputs": [],
   "source": [
    "seq = [1,2,3,4,5,6,7,8,9]"
   ]
  },
  {
   "cell_type": "code",
   "execution_count": 74,
   "id": "48048cd7",
   "metadata": {},
   "outputs": [
    {
     "data": {
      "text/plain": [
       "[2, 3, 4, 5, 6, 7, 8, 9, 10]"
      ]
     },
     "execution_count": 74,
     "metadata": {},
     "output_type": "execute_result"
    }
   ],
   "source": [
    "add_one_list(seq)"
   ]
  },
  {
   "cell_type": "code",
   "execution_count": 81,
   "id": "6bd939b4",
   "metadata": {},
   "outputs": [
    {
     "data": {
      "text/plain": [
       "[2, 3, 4, 5, 6, 7, 8, 9, 10]"
      ]
     },
     "execution_count": 81,
     "metadata": {},
     "output_type": "execute_result"
    }
   ],
   "source": [
    "add_one_list2(seq)"
   ]
  },
  {
   "cell_type": "code",
   "execution_count": 97,
   "id": "70b2e87a",
   "metadata": {},
   "outputs": [
    {
     "data": {
      "text/plain": [
       "[2, 3, 4, 5, 6, 7, 8, 9, 10]"
      ]
     },
     "execution_count": 97,
     "metadata": {},
     "output_type": "execute_result"
    }
   ],
   "source": [
    "#List comprehension\n",
    "\n",
    "add_one_list_comp = [i+1 for i in seq]\n",
    "add_one_list_comp"
   ]
  },
  {
   "cell_type": "markdown",
   "id": "3e323710",
   "metadata": {},
   "source": [
    "### Exercise 3\n",
    "\n",
    "- Define a function `even_or_odd()`\n",
    "- this function takes any integer as an argument\n",
    "- this function computes the modulo of the input with %2\n",
    "- if %2 is equal to 0, the function prints \"is even\"\n",
    "- else, the function prints \"is odd\""
   ]
  },
  {
   "cell_type": "code",
   "execution_count": 53,
   "id": "79363936",
   "metadata": {},
   "outputs": [],
   "source": [
    "def even_or_odd(x):\n",
    "    if x%2 == 0:\n",
    "        print(\"The number is even.\")\n",
    "    else:\n",
    "        print(\"The number is odd.\")"
   ]
  },
  {
   "cell_type": "code",
   "execution_count": 54,
   "id": "abbef575",
   "metadata": {},
   "outputs": [
    {
     "name": "stdout",
     "output_type": "stream",
     "text": [
      "The number is even\n"
     ]
    }
   ],
   "source": [
    "even_or_odd(6)"
   ]
  },
  {
   "cell_type": "code",
   "execution_count": 111,
   "id": "b5988c6f",
   "metadata": {},
   "outputs": [],
   "source": [
    "def even_or_odd_lst_comp(x):\n",
    "    result = {i:\"Even\" if i%2 == 0 else \"Odd\" for i in x}\n",
    "    return result"
   ]
  },
  {
   "cell_type": "code",
   "execution_count": 112,
   "id": "7b2a7577",
   "metadata": {},
   "outputs": [
    {
     "data": {
      "text/plain": [
       "{5: 'Odd',\n",
       " 1: 'Odd',\n",
       " 948: 'Even',\n",
       " 6: 'Even',\n",
       " 894: 'Even',\n",
       " 32: 'Even',\n",
       " 8: 'Even',\n",
       " 65: 'Odd',\n",
       " 64: 'Even',\n",
       " 13: 'Odd',\n",
       " 87: 'Odd'}"
      ]
     },
     "execution_count": 112,
     "metadata": {},
     "output_type": "execute_result"
    }
   ],
   "source": [
    "seq2 = [5,1,948,6,5,894,32,8,65,64,13,5,87]\n",
    "even_or_odd_lst_comp(seq2)"
   ]
  },
  {
   "cell_type": "code",
   "execution_count": 113,
   "id": "8160e97b",
   "metadata": {},
   "outputs": [],
   "source": [
    "def even_or_odd_lst_comp2(x):\n",
    "    print('\\n'.join([str(x) + [\" is even\",\" is odd\"][x%2] for x in x]))"
   ]
  },
  {
   "cell_type": "code",
   "execution_count": 114,
   "id": "30e94373",
   "metadata": {},
   "outputs": [
    {
     "name": "stdout",
     "output_type": "stream",
     "text": [
      "1 is odd\n",
      "2 is even\n",
      "3 is odd\n",
      "4 is even\n",
      "5 is odd\n",
      "6 is even\n",
      "7 is odd\n",
      "8 is even\n",
      "9 is odd\n"
     ]
    }
   ],
   "source": [
    "even_or_odd_lst_comp2(seq)"
   ]
  },
  {
   "cell_type": "code",
   "execution_count": 124,
   "id": "a41b6e1d",
   "metadata": {},
   "outputs": [
    {
     "data": {
      "text/plain": [
       "[1]"
      ]
     },
     "execution_count": 124,
     "metadata": {},
     "output_type": "execute_result"
    }
   ],
   "source": [
    "[5%2] #this returns a boolean under a 1 or 0 form."
   ]
  },
  {
   "cell_type": "code",
   "execution_count": 129,
   "id": "84708c0a",
   "metadata": {},
   "outputs": [
    {
     "data": {
      "text/plain": [
       "'Option B'"
      ]
     },
     "execution_count": 129,
     "metadata": {},
     "output_type": "execute_result"
    }
   ],
   "source": [
    "# Therefore it calls the list index [1]. It slices it according to the result of condition [x%2]\n",
    "[\"Option A\",\"Option B\"][5%2]"
   ]
  },
  {
   "cell_type": "markdown",
   "id": "6d5b9540",
   "metadata": {},
   "source": [
    "### Exercise 4\n",
    "\n",
    "- Define a function `even_or_odd_list()`\n",
    "- this function takes any list as an argument\n",
    "- this function iterates over the list\n",
    "- this function computes the modulo of the input with %2 for each element in the list\n",
    "- if %2 is equal to 0, the function prints (element)\"is even\"\n",
    "- else, the function prints (element)\"is odd\""
   ]
  },
  {
   "cell_type": "code",
   "execution_count": 102,
   "id": "ff97a15a",
   "metadata": {},
   "outputs": [],
   "source": [
    "def even_odd_list(lst):\n",
    "    result=[]\n",
    "    for i in lst:\n",
    "        if i % 2 == 0:\n",
    "            result.append(\"Even\")\n",
    "        else:\n",
    "            result.append(\"Odd\")\n",
    "    return result"
   ]
  },
  {
   "cell_type": "code",
   "execution_count": 103,
   "id": "36856380",
   "metadata": {},
   "outputs": [
    {
     "name": "stdout",
     "output_type": "stream",
     "text": [
      "['Odd', 'Even', 'Odd', 'Even', 'Odd', 'Even', 'Odd', 'Even', 'Odd']\n"
     ]
    }
   ],
   "source": [
    "seq=[1,2,3,4,5,6,7,8,9]\n",
    "\n",
    "result_list = even_odd_list(seq)\n",
    "print(result_list)"
   ]
  },
  {
   "cell_type": "code",
   "execution_count": 131,
   "id": "cea01675",
   "metadata": {},
   "outputs": [],
   "source": [
    "# List Comprehension\n",
    "\n",
    "def even_or_odd_listcomp4(x):\n",
    "    results = {i : \"Even\" if i%2==0 else \"Odd\" for i in x }\n",
    "    return results\n",
    "\n",
    "# even_or_odd_listcomp = [\"Even\" if i%2==0 else \"Odd\" for i in seq]\n",
    "# even_or_odd_listcomp"
   ]
  },
  {
   "cell_type": "code",
   "execution_count": 132,
   "id": "1a68dc0b",
   "metadata": {},
   "outputs": [
    {
     "data": {
      "text/plain": [
       "{1: 'Odd',\n",
       " 2: 'Even',\n",
       " 3: 'Odd',\n",
       " 4: 'Even',\n",
       " 5: 'Odd',\n",
       " 6: 'Even',\n",
       " 7: 'Odd',\n",
       " 8: 'Even',\n",
       " 9: 'Odd'}"
      ]
     },
     "execution_count": 132,
     "metadata": {},
     "output_type": "execute_result"
    }
   ],
   "source": [
    "even_or_odd_listcomp4(seq)"
   ]
  },
  {
   "cell_type": "markdown",
   "id": "66eba569",
   "metadata": {},
   "source": [
    "_____________________________________________________________________________"
   ]
  },
  {
   "cell_type": "code",
   "execution_count": 13,
   "id": "52a74e5c",
   "metadata": {},
   "outputs": [
    {
     "name": "stdout",
     "output_type": "stream",
     "text": [
      "21\n"
     ]
    }
   ],
   "source": [
    "\n",
    "def Fibonacci(n):\n",
    "\n",
    "    if n < 0:\n",
    "        print(\"Incorrect input\")\n",
    " \n",
    "    elif n == 0:\n",
    "        return 0\n",
    " \n",
    "    elif n == 1 or n == 2:\n",
    "        return 1\n",
    " \n",
    "    else:\n",
    "        return Fibonacci(n-1) + Fibonacci(n-2)\n",
    " \n",
    "print(Fibonacci(8))\n"
   ]
  },
  {
   "cell_type": "code",
   "execution_count": 7,
   "id": "633411d9",
   "metadata": {},
   "outputs": [],
   "source": [
    "def Fibonacci_index(n):\n",
    "    if n <= 0:\n",
    "        return 0\n",
    "    elif index == 1:\n",
    "        return 1\n",
    "    else:\n",
    "        return Fibonacci_index(n-1) + Fibonacci_index(n-2)"
   ]
  },
  {
   "cell_type": "code",
   "execution_count": 9,
   "id": "2595b2d4",
   "metadata": {},
   "outputs": [
    {
     "name": "stdout",
     "output_type": "stream",
     "text": [
      "The Fibonacci number at index 10 is 0\n"
     ]
    }
   ],
   "source": [
    "index = 10\n",
    "result = Fibonacci_index(index)\n",
    "print(f\"The Fibonacci number at index {index} is {result}\")"
   ]
  },
  {
   "cell_type": "code",
   "execution_count": 16,
   "id": "ec12f716",
   "metadata": {},
   "outputs": [
    {
     "data": {
      "text/plain": [
       "21"
      ]
     },
     "execution_count": 16,
     "metadata": {},
     "output_type": "execute_result"
    }
   ],
   "source": [
    "fib=[0,1,1,2,3,5,8,13,21,34,55]\n",
    "#Enter index to get the Fibonacci number at that position:\n",
    "ind_fib=input(\"Enter a number from 1 to 10: \")\n",
    "fib[int(ind_fib)]"
   ]
  },
  {
   "cell_type": "code",
   "execution_count": null,
   "id": "56a67df6",
   "metadata": {},
   "outputs": [],
   "source": [
    "import pandas\n"
   ]
  }
 ],
 "metadata": {
  "kernelspec": {
   "display_name": "Python 3 (ipykernel)",
   "language": "python",
   "name": "python3"
  },
  "language_info": {
   "codemirror_mode": {
    "name": "ipython",
    "version": 3
   },
   "file_extension": ".py",
   "mimetype": "text/x-python",
   "name": "python",
   "nbconvert_exporter": "python",
   "pygments_lexer": "ipython3",
   "version": "3.11.5"
  }
 },
 "nbformat": 4,
 "nbformat_minor": 5
}
