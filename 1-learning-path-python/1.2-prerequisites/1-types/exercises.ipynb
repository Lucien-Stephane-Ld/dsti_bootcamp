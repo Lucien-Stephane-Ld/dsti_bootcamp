{
 "cells": [
  {
   "cell_type": "markdown",
   "id": "5dd318cb",
   "metadata": {},
   "source": [
    "### Exercise 1\n",
    "\n",
    "- create variables a, c and d with respective types float, int and str"
   ]
  },
  {
   "cell_type": "code",
   "execution_count": 7,
   "id": "83b4cb33",
   "metadata": {},
   "outputs": [
    {
     "name": "stdout",
     "output_type": "stream",
     "text": [
      "Variable a = <class 'float'>, variabl b = <class 'int'>, variable c = <class 'str'>\n"
     ]
    }
   ],
   "source": [
    "a = float(1.1)\n",
    "b = int(1)\n",
    "c = \"cunt\"\n",
    "print(f\"Variable a = {type(a)}, variable b = {type(b)}, variable c = {type(c)}\")"
   ]
  },
  {
   "cell_type": "markdown",
   "id": "ff30ea15",
   "metadata": {},
   "source": [
    "### Exercise 2\n",
    "\n",
    "- create variables e, f and g with respective values 2.5, 2 and 'hello'"
   ]
  },
  {
   "cell_type": "code",
   "execution_count": 10,
   "id": "adfed1cd",
   "metadata": {},
   "outputs": [],
   "source": [
    "e=2.5\n",
    "f=2\n",
    "g=\"hello\""
   ]
  },
  {
   "cell_type": "markdown",
   "id": "a003f07a",
   "metadata": {},
   "source": [
    "### Exercise 3\n",
    "\n",
    "- verify a and e, c and f, d and g have the same types using the *type()* fonction: use the == operator to assess equality\n",
    "- example: *type(a) == type(e)*"
   ]
  },
  {
   "cell_type": "code",
   "execution_count": 17,
   "id": "2e61b092",
   "metadata": {},
   "outputs": [
    {
     "data": {
      "text/plain": [
       "[False,\n",
       " False,\n",
       " True,\n",
       " False,\n",
       " False,\n",
       " False,\n",
       " False,\n",
       " True,\n",
       " False,\n",
       " False,\n",
       " False,\n",
       " True,\n",
       " False,\n",
       " False,\n",
       " False]"
      ]
     },
     "execution_count": 17,
     "metadata": {},
     "output_type": "execute_result"
    }
   ],
   "source": [
    "list=[a,b,c,e,f,g]\n",
    "\n",
    "results=[ type(list[i]) == type(list[j]) for i in range(len(list)) for j in range(i + 1, len(list))]\n",
    "results"
   ]
  },
  {
   "cell_type": "code",
   "execution_count": 18,
   "id": "13daafe1",
   "metadata": {},
   "outputs": [
    {
     "name": "stdout",
     "output_type": "stream",
     "text": [
      "[False, False, True, False, False, False, False, False, True, False, False, False, False, False, True, True, False, False, False, False, False, True, False, False, False, False, False, True, False, False]\n"
     ]
    }
   ],
   "source": [
    "results = []\n",
    "for i in range(len(list)):\n",
    "    for j in range(len(list)):\n",
    "        if i != j:  # Avoid comparing an object to itself\n",
    "            result = type(list[i]) == type(list[j])\n",
    "            results.append(result)\n",
    "\n",
    "print(results)"
   ]
  },
  {
   "cell_type": "code",
   "execution_count": null,
   "id": "4240a2c7",
   "metadata": {},
   "outputs": [],
   "source": []
  }
 ],
 "metadata": {
  "kernelspec": {
   "display_name": "Python 3 (ipykernel)",
   "language": "python",
   "name": "python3"
  },
  "language_info": {
   "codemirror_mode": {
    "name": "ipython",
    "version": 3
   },
   "file_extension": ".py",
   "mimetype": "text/x-python",
   "name": "python",
   "nbconvert_exporter": "python",
   "pygments_lexer": "ipython3",
   "version": "3.11.5"
  }
 },
 "nbformat": 4,
 "nbformat_minor": 5
}
